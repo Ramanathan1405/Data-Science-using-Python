{
 "cells": [
  {
   "cell_type": "markdown",
   "metadata": {},
   "source": [
    "# Data Science Using Python\n",
    "### Assignment 2: Text Classification\n",
    "#### By Ramanathan Moorthy (18201670) and Anjali Tiwari (18202322)"
   ]
  },
  {
   "cell_type": "code",
   "execution_count": 103,
   "metadata": {},
   "outputs": [
    {
     "name": "stderr",
     "output_type": "stream",
     "text": [
      "[nltk_data] Downloading package wordnet to\n",
      "[nltk_data]     C:\\Users\\Ramanathan\\AppData\\Roaming\\nltk_data...\n",
      "[nltk_data]   Package wordnet is already up-to-date!\n",
      "[nltk_data] Downloading package stopwords to\n",
      "[nltk_data]     C:\\Users\\Ramanathan\\AppData\\Roaming\\nltk_data...\n",
      "[nltk_data]   Package stopwords is already up-to-date!\n",
      "[nltk_data] Downloading package punkt to\n",
      "[nltk_data]     C:\\Users\\Ramanathan\\AppData\\Roaming\\nltk_data...\n",
      "[nltk_data]   Package punkt is already up-to-date!\n"
     ]
    }
   ],
   "source": [
    "import bs4\n",
    "import urllib.request\n",
    "import pandas as pd\n",
    "import re\n",
    "import nltk\n",
    "import matplotlib\n",
    "import sklearn.model_selection\n",
    "from sklearn import metrics\n",
    "from sklearn.model_selection import train_test_split\n",
    "from nltk.corpus import stopwords\n",
    "from nltk import word_tokenize, sent_tokenize\n",
    "from nltk.stem import PorterStemmer, WordNetLemmatizer\n",
    "from sklearn.neighbors import KNeighborsClassifier\n",
    "from sklearn.metrics import accuracy_score\n",
    "\n",
    "nltk.download('wordnet')\n",
    "nltk.download('stopwords')\n",
    "nltk.download('punkt')\n",
    "from sklearn.feature_extraction.text import CountVectorizer\n",
    "from sklearn.naive_bayes import MultinomialNB\n",
    "\n",
    "%matplotlib inline"
   ]
  },
  {
   "cell_type": "code",
   "execution_count": 2,
   "metadata": {
    "scrolled": true
   },
   "outputs": [],
   "source": [
    "home = 'http://mlg.ucd.ie/modules/yalp'\n",
    "hm_link = 'http://mlg.ucd.ie/modules/yalp/health_medical_list.html' #Health & Medical Reviews\n",
    "aut_link = 'http://mlg.ucd.ie/modules/yalp/automotive_list.html'#Automotive Reviews"
   ]
  },
  {
   "cell_type": "code",
   "execution_count": 106,
   "metadata": {},
   "outputs": [],
   "source": [
    "def read_bsns(link):    # Function to read link values for all the Bussiness inside a Catregory\n",
    "    response = urllib.request.urlopen(link)\n",
    "    html = response.read().decode()\n",
    "    #print(html)\n",
    "    soup = bs4.BeautifulSoup(html,\"html.parser\")\n",
    "    #print(parser.prettify())\n",
    "\n",
    "    bsns_list = list()\n",
    "    for link in soup.find_all('a'):\n",
    "        text = link.get('href')\n",
    "        bsns_list.append(text)\n",
    "\n",
    "    print(len(bsns_list),'business links have been read from', soup.find('h3','info').get_text())\n",
    "    return bsns_list"
   ]
  },
  {
   "cell_type": "code",
   "execution_count": 6,
   "metadata": {},
   "outputs": [],
   "source": [
    "def read_review(bsns_list):     #Function to read review text and rating stars and store it as CSV\n",
    "    dataset = {}\n",
    "    dataset['rvw_label'] = list()\n",
    "    dataset['rvw_text'] = list()\n",
    "    for est in bsns_list:\n",
    "        response = urllib.request.urlopen(home+\"/\"+est)\n",
    "        html1 = response.read().decode()\n",
    "        soup = bs4.BeautifulSoup(html1,\"html.parser\")\n",
    "        #print(soup.prettify())\n",
    "\n",
    "        for review in soup.find_all('div','review'):\n",
    "            try:\n",
    "                # Store '1' if reviews are Positive(5&4 stars) and '0' for Negative(3,2&1 Stars)\n",
    "                star_text = review.find('img').get('alt')\n",
    "                if star_text in ['1-star', '2-star', '3-star']:\n",
    "                    dataset['rvw_label'].append(0)\n",
    "                elif star_text in ['5-star', '4-star']:\n",
    "                    dataset['rvw_label'].append(1)\n",
    "                else:\n",
    "                    print('Flag', review)\n",
    "                dataset['rvw_text'].append(review.find('p', 'text').get_text())\n",
    "            except:\n",
    "                print('Error!! in storing review by', review.find('i').get_text(), \"on\", soup.find('h3', 'info').get_text() )\n",
    "                \n",
    "    print(len(dataset['rvw_text']), \"reviews have been read\")                \n",
    "    return dataset"
   ]
  },
  {
   "cell_type": "markdown",
   "metadata": {},
   "source": [
    "## Task 1: Scraping reviews and storing along with binary class labels\n",
    "\n",
    "### Categories selected: Health and Medical, Automotive Reviews"
   ]
  },
  {
   "cell_type": "code",
   "execution_count": 8,
   "metadata": {},
   "outputs": [
    {
     "name": "stdout",
     "output_type": "stream",
     "text": [
      "122 business links have been read from Yalp — Fresh Reviews for Health and medical\n",
      "101 business links have been read from Yalp — Fresh Reviews for Automotive\n",
      "1450 reviews have been read\n",
      "1455 reviews have been read\n",
      "Storing reviews into CSV files: H&M.csv, Aut.csv\n"
     ]
    }
   ],
   "source": [
    "hm_list = read_bsns(hm_link)\n",
    "aut_list = read_bsns(aut_link)\n",
    "\n",
    "hm_dataset = read_review(hm_list)\n",
    "aut_dataset = read_review(aut_list)\n",
    "\n",
    "hm_dataframe = pd.DataFrame(hm_dataset)\n",
    "aut_dataframe = pd.DataFrame(aut_dataset)\n",
    "\n",
    "print(\"Storing reviews into CSV files: H&M.csv, Aut.csv\")\n",
    "hm_dataframe.to_csv('H&M.csv')\n",
    "aut_dataframe.to_csv('Aut.csv')"
   ]
  },
  {
   "cell_type": "code",
   "execution_count": 9,
   "metadata": {},
   "outputs": [
    {
     "data": {
      "text/html": [
       "<div>\n",
       "<style scoped>\n",
       "    .dataframe tbody tr th:only-of-type {\n",
       "        vertical-align: middle;\n",
       "    }\n",
       "\n",
       "    .dataframe tbody tr th {\n",
       "        vertical-align: top;\n",
       "    }\n",
       "\n",
       "    .dataframe thead th {\n",
       "        text-align: right;\n",
       "    }\n",
       "</style>\n",
       "<table border=\"1\" class=\"dataframe\">\n",
       "  <thead>\n",
       "    <tr style=\"text-align: right;\">\n",
       "      <th></th>\n",
       "      <th>rvw_label</th>\n",
       "      <th>rvw_text</th>\n",
       "    </tr>\n",
       "  </thead>\n",
       "  <tbody>\n",
       "    <tr>\n",
       "      <th>0</th>\n",
       "      <td>1</td>\n",
       "      <td>I arrived at 3 PM and the dealership closed at...</td>\n",
       "    </tr>\n",
       "    <tr>\n",
       "      <th>1</th>\n",
       "      <td>0</td>\n",
       "      <td>I dropped my car off on a Wednesday morning fo...</td>\n",
       "    </tr>\n",
       "    <tr>\n",
       "      <th>2</th>\n",
       "      <td>1</td>\n",
       "      <td>My parents have been buying cars off of Donna ...</td>\n",
       "    </tr>\n",
       "    <tr>\n",
       "      <th>3</th>\n",
       "      <td>1</td>\n",
       "      <td>I recently bought another car from Donna Dunni...</td>\n",
       "    </tr>\n",
       "    <tr>\n",
       "      <th>4</th>\n",
       "      <td>1</td>\n",
       "      <td>I had to schedule an appointment due to the ai...</td>\n",
       "    </tr>\n",
       "  </tbody>\n",
       "</table>\n",
       "</div>"
      ],
      "text/plain": [
       "   rvw_label                                           rvw_text\n",
       "0          1  I arrived at 3 PM and the dealership closed at...\n",
       "1          0  I dropped my car off on a Wednesday morning fo...\n",
       "2          1  My parents have been buying cars off of Donna ...\n",
       "3          1  I recently bought another car from Donna Dunni...\n",
       "4          1  I had to schedule an appointment due to the ai..."
      ]
     },
     "execution_count": 9,
     "metadata": {},
     "output_type": "execute_result"
    }
   ],
   "source": [
    "aut_dataframe.head()"
   ]
  },
  {
   "cell_type": "markdown",
   "metadata": {},
   "source": [
    "## Task 2: PreProcessing and Classification Model"
   ]
  },
  {
   "cell_type": "code",
   "execution_count": 107,
   "metadata": {},
   "outputs": [
    {
     "data": {
      "text/plain": [
       "(1450, 81915)"
      ]
     },
     "execution_count": 107,
     "metadata": {},
     "output_type": "execute_result"
    }
   ],
   "source": [
    "#Without any preprocessing\n",
    "vectorizer = CountVectorizer(ngram_range = (1,2))\n",
    "X_samp = vectorizer.fit_transform(hm_dataset['rvw_text'])\n",
    "X_samp.shape   #Not used anywhere in the notebook. For the purpose of displaying Vector dimension without any preprocessing"
   ]
  },
  {
   "cell_type": "code",
   "execution_count": 11,
   "metadata": {},
   "outputs": [],
   "source": [
    "# define the function with NLTK Porter Stemming\n",
    "def stem_tokenizer(text):\n",
    "    # use the standard scikit-learn tokenizer first\n",
    "    standard_tokenizer = CountVectorizer().build_tokenizer()\n",
    "    tokens = standard_tokenizer(text)\n",
    "    # then use NLTK to perform stemming on each token\n",
    "    stemmer = PorterStemmer()\n",
    "    stems = []\n",
    "    for token in tokens:\n",
    "        stems.append( stemmer.stem(token) )\n",
    "    return stems"
   ]
  },
  {
   "cell_type": "code",
   "execution_count": 28,
   "metadata": {},
   "outputs": [
    {
     "name": "stdout",
     "output_type": "stream",
     "text": [
      "179 stop words from NLTK corpus\n",
      "270 stop words after addition of stemmed stop words\n"
     ]
    }
   ],
   "source": [
    "StopWord = stopwords.words('english')\n",
    "print(len(StopWord), \"stop words from NLTK corpus\")\n",
    "#Updating Stopword collection to accomodate stemmed stop words. The words are taken from the warning showed during CountVectorization\n",
    "for i in ['abov', 'afterward', 'alon', 'alreadi', 'alway', 'ani', 'anoth', 'anyon', 'anyth', 'anywher', 'becam', 'becaus', 'becom', 'befor', 'besid', 'cri', 'describ', 'dure', 'els', 'elsewher', 'empti', 'everi', 'everyon', 'everyth', 'everywher', 'fifti', 'formerli', 'forti', 'ha', 'henc', 'hereaft', 'herebi', 'hi', 'howev', 'hundr', 'inde', 'latterli', 'mani', 'meanwhil', 'moreov', 'mostli', 'nobodi', 'noon', 'noth', 'nowher', 'onc', 'onli', 'otherwis', 'ourselv', 'perhap', 'pleas', 'seriou', 'sever', 'sinc', 'sincer', 'sixti', 'someon', 'someth', 'sometim', 'somewher', 'themselv', 'thenc', 'thereaft', 'therebi', 'therefor', 'thi', 'thu', 'togeth', 'twelv', 'twenti', 'veri', 'wa', 'whatev', 'whenc', 'whenev', 'wherea', 'whereaft', 'wherebi', 'wherev', 'whi', 'yourselv','anywh', 'becau', 'doe', 'el', 'elsewh', 'everywh', 'ind', 'otherwi', 'plea', 'somewh']:\n",
    "    StopWord.append(i)\n",
    "print(len(StopWord), \"stop words after addition of stemmed stop words\")"
   ]
  },
  {
   "cell_type": "markdown",
   "metadata": {},
   "source": [
    "### Vectorising algorithm and vectorising"
   ]
  },
  {
   "cell_type": "code",
   "execution_count": 110,
   "metadata": {},
   "outputs": [],
   "source": [
    "def vect(text_list):\n",
    "    for i in range(len(text_list)):\n",
    "        text_list[i] = text_list[i].lower()\n",
    "        text_list[i] = re.sub(r'[0-9]+', '', text_list[i]) #To remove numbers(Year, Time, Fee) from the reviews\n",
    "        \n",
    "    #Count Vectorizer with Unigram and Bigram tokenzation. Stem Tokenization using PorterStemming\n",
    "    #Ignore terms that have a document frequency strictly lower than 3 (min_df = 3)\n",
    "    vectorizer = CountVectorizer(ngram_range = (1,2),stop_words = StopWord ,min_df = 5,tokenizer=stem_tokenizer)\n",
    "    X = vectorizer.fit_transform(text_list)\n",
    "    print(X.shape)\n",
    "    #term = vectorizer.get_feature_names()\n",
    "    #print(term)\n",
    "    return X"
   ]
  },
  {
   "cell_type": "code",
   "execution_count": 111,
   "metadata": {},
   "outputs": [
    {
     "name": "stdout",
     "output_type": "stream",
     "text": [
      "(2905, 5376)\n"
     ]
    },
    {
     "data": {
      "text/plain": [
       "(2905, 5376)"
      ]
     },
     "execution_count": 111,
     "metadata": {},
     "output_type": "execute_result"
    }
   ],
   "source": [
    "complete_dataset = hm_dataset['rvw_text']+aut_dataset['rvw_text']\n",
    "#print(len(complete_dataset)) #2905\n",
    "#print(complete_dataset[1450]) #First review of Automotive. Reviews are in Order\n",
    "\n",
    "#Vectorising the complete dataset with Reviews from two categories\n",
    "#X_full[0:1450] =  Health and Medicine review vectors\n",
    "#X_full[1450:2905] = Automotive review vectors\n",
    "X_full = vect(complete_dataset)\n",
    "X_full.shape # Reviews are merged to anable cross model validation"
   ]
  },
  {
   "cell_type": "markdown",
   "metadata": {},
   "source": [
    "### Splitting Test and Train data for both categories with 75:25 (Train:Test) proportion\n",
    "\n",
    "hm - Health and Medicine\n",
    "\n",
    "aut - Automotive"
   ]
  },
  {
   "cell_type": "code",
   "execution_count": 112,
   "metadata": {},
   "outputs": [
    {
     "name": "stdout",
     "output_type": "stream",
     "text": [
      "Shape of Health and Medicine Train vectors (1087, 5376)\n",
      "Shape of Health and Medicne Test Vectors (363, 5376)\n"
     ]
    }
   ],
   "source": [
    "hm_train, hm_test, hm_rslt_train, hm_rslt_test = train_test_split(X_full[0:1450], hm_dataset['rvw_label'])\n",
    "print(\"Shape of Health and Medicine Train vectors\",hm_train.shape)\n",
    "print(\"Shape of Health and Medicne Test Vectors\", hm_test.shape)"
   ]
  },
  {
   "cell_type": "code",
   "execution_count": 113,
   "metadata": {},
   "outputs": [
    {
     "name": "stdout",
     "output_type": "stream",
     "text": [
      "Shape of Automotive Train vectors (1091, 5376)\n",
      "Shape of Automotive Test Vectors (364, 5376)\n"
     ]
    }
   ],
   "source": [
    "aut_train, aut_test, aut_rslt_train, aut_rslt_test = train_test_split(X_full[1450:2905], aut_dataset['rvw_label'])\n",
    "print(\"Shape of Automotive Train vectors\",aut_train.shape)\n",
    "print(\"Shape of Automotive Test Vectors\", aut_test.shape)"
   ]
  },
  {
   "cell_type": "markdown",
   "metadata": {},
   "source": [
    "### KNearestNeighbour Classification model"
   ]
  },
  {
   "cell_type": "code",
   "execution_count": 95,
   "metadata": {},
   "outputs": [],
   "source": [
    "def KNN_model(vectors, result, N): #N - number of Neighbours\n",
    "    model = KNeighborsClassifier(n_neighbors=N)\n",
    "    # build a model on the document-term matrix created from the original set of documents\n",
    "    model.fit(vectors, result)\n",
    "    #print(model)\n",
    "    return(model)"
   ]
  },
  {
   "cell_type": "code",
   "execution_count": 114,
   "metadata": {},
   "outputs": [
    {
     "name": "stdout",
     "output_type": "stream",
     "text": [
      "KNN Model on Health and Medicine Reviews\n",
      "\n",
      "Model Trained on Train dataset with N=3\n",
      "Results predicted for Test dataset\n",
      "\n",
      "   KNN Classification accuracy score = 0.82\n"
     ]
    }
   ],
   "source": [
    "print('KNN Model on Health and Medicine Reviews')\n",
    "hm_model = KNN_model(hm_train, hm_rslt_train, 3)\n",
    "print('\\nModel Trained on Train dataset with N=3')\n",
    "predicted = hm_model.predict(hm_test)\n",
    "print('Results predicted for Test dataset')\n",
    "acc = accuracy_score(hm_rslt_test, predicted)\n",
    "print(\"\\n   KNN Classification accuracy score = %.2f\" % acc)\n"
   ]
  },
  {
   "cell_type": "code",
   "execution_count": 115,
   "metadata": {},
   "outputs": [
    {
     "name": "stdout",
     "output_type": "stream",
     "text": [
      "KNN Model on Automotive Reviews\n",
      "\n",
      "Model Trained on Train dataset with N=3\n",
      "Results predicted for Test dataset\n",
      "\n",
      "   KNN accuracy score = 0.69\n"
     ]
    }
   ],
   "source": [
    "print('KNN Model on Automotive Reviews')\n",
    "aut_model = KNN_model(aut_train, aut_rslt_train, 3)\n",
    "print('\\nModel Trained on Train dataset with N=3')\n",
    "predicted = aut_model.predict(aut_test)\n",
    "print('Results predicted for Test dataset')\n",
    "acc = accuracy_score(aut_rslt_test, predicted)\n",
    "print(\"\\n   KNN accuracy score = %.2f\" % acc)"
   ]
  },
  {
   "cell_type": "markdown",
   "metadata": {},
   "source": [
    "### Naive Bayes Classification Model"
   ]
  },
  {
   "cell_type": "code",
   "execution_count": 70,
   "metadata": {},
   "outputs": [],
   "source": [
    "def NB_Model(vectors, result):\n",
    "    model = MultinomialNB()\n",
    "    model.fit(vectors, result)\n",
    "    return model"
   ]
  },
  {
   "cell_type": "code",
   "execution_count": 116,
   "metadata": {},
   "outputs": [
    {
     "name": "stdout",
     "output_type": "stream",
     "text": [
      "Naive Bayes Classifier on Health and Medicine review\n",
      "\n",
      "Model Trained on Train dataset with NB Classifier\n",
      "Results predicted for Test dataset\n",
      "\n",
      "   Naive Bayes Classification accuracy score = 0.93\n"
     ]
    }
   ],
   "source": [
    "print(\"Naive Bayes Classifier on Health and Medicine review\")\n",
    "hm_NB_model = NB_Model(hm_train, hm_rslt_train)\n",
    "print('\\nModel Trained on Train dataset with NB Classifier')\n",
    "predicted = hm_NB_model.predict(hm_test)\n",
    "print('Results predicted for Test dataset')\n",
    "acc = accuracy_score(hm_rslt_test, predicted)\n",
    "print(\"\\n   Naive Bayes Classification accuracy score = %.2f\" % acc)"
   ]
  },
  {
   "cell_type": "code",
   "execution_count": 117,
   "metadata": {},
   "outputs": [
    {
     "name": "stdout",
     "output_type": "stream",
     "text": [
      "Naive Bayes Classifier on Automotive review\n",
      "\n",
      "Model Trained on Train dataset with NB Classifier\n",
      "Results predicted for Test dataset\n",
      "\n",
      "   Naive Bayes Classification accuracy score = 0.92\n"
     ]
    }
   ],
   "source": [
    "print(\"Naive Bayes Classifier on Automotive review\")\n",
    "aut_NB_model = NB_Model(aut_train, aut_rslt_train)\n",
    "print('\\nModel Trained on Train dataset with NB Classifier')\n",
    "predicted = aut_NB_model.predict(aut_test)\n",
    "print('Results predicted for Test dataset')\n",
    "acc = accuracy_score(aut_rslt_test, predicted)\n",
    "print(\"\\n   Naive Bayes Classification accuracy score = %.2f\" % acc)"
   ]
  },
  {
   "cell_type": "markdown",
   "metadata": {},
   "source": [
    "#### Results for Classification Model Cross validation\n",
    "\n",
    "**Naive Bayes** classifier model performs with great accuracy on both the categories we have selected(Automotive || Health and Medicine). It has greater than 90% accuracy for Test Dataset predictions. \n",
    "\n",
    "**KNearestNeighborhood** classification model performs relatively poor compared to NB model with accuracy of 73% for both categories"
   ]
  },
  {
   "cell_type": "markdown",
   "metadata": {},
   "source": [
    "### Experiment with KNN \n",
    "#### Effect of Neighbourhood Size on Predictions"
   ]
  },
  {
   "cell_type": "code",
   "execution_count": 118,
   "metadata": {},
   "outputs": [
    {
     "data": {
      "text/plain": [
       "<matplotlib.axes._subplots.AxesSubplot at 0x1c9d3397f28>"
      ]
     },
     "execution_count": 118,
     "metadata": {},
     "output_type": "execute_result"
    },
    {
     "data": {
      "image/png": "[encoded data removed]",
      "text/plain": [
       "<Figure size 432x288 with 1 Axes>"
      ]
     },
     "metadata": {
      "needs_background": "light"
     },
     "output_type": "display_data"
    }
   ],
   "source": [
    "res_dict = {}\n",
    "res_dict['N_Size'] = list()\n",
    "res_dict['Accuracy'] = list()\n",
    "for N in range(1,11):\n",
    "    hm_model = KNN_model(hm_train, hm_rslt_train, N)\n",
    "    predicted = hm_model.predict(hm_test)\n",
    "    acc = accuracy_score(hm_rslt_test, predicted)\n",
    "    res_dict['N_Size'].append(N)\n",
    "    res_dict['Accuracy'].append(acc)\n",
    "#print(res_dict)\n",
    "df = pd.DataFrame(res_dict)\n",
    "df.set_index('N_Size').plot()"
   ]
  },
  {
   "cell_type": "markdown",
   "metadata": {},
   "source": [
    "**Results:**\n",
    "The prediction results for gradually increasing Nieghborhood Size(N) are shown in above graph. The predictions accuracy gradually decreases as we increase the Neighbourhood size. This is due to the higher chance of inclusion of the bad neighbours(belong to different Class(say, Negative) rather than the actual class(say, Positive)) into the NeighbourHood. There is a peculiar Behaviour of showing comparitively high values for Even N value(N = 2,4,6) compared to adjoining odd N value. "
   ]
  },
  {
   "cell_type": "markdown",
   "metadata": {},
   "source": [
    "# Task 3: Cross Model Performance\n",
    "\n",
    "We are using Naive Bayes Classifier model to validate the predictions between the categories. Naive Bayes classifier model has shown High accuracy in predicting Health and Medical Reviews(93%) and Automotive Reviews(94%), when it has been trained and tested within the same category."
   ]
  },
  {
   "cell_type": "code",
   "execution_count": 119,
   "metadata": {},
   "outputs": [
    {
     "name": "stdout",
     "output_type": "stream",
     "text": [
      "Results predicted for Automotive Test dataset on Health and Medine(H&M) Naive Bayes Model\n",
      "\n",
      "   Naive Bayes Classification accuracy score = 0.75\n",
      "\n",
      "Classification report               precision    recall  f1-score   support\n",
      "\n",
      "           0       0.59      0.95      0.73       130\n",
      "           1       0.96      0.63      0.76       234\n",
      "\n",
      "   micro avg       0.75      0.75      0.75       364\n",
      "   macro avg       0.78      0.79      0.75       364\n",
      "weighted avg       0.83      0.75      0.75       364\n",
      "\n"
     ]
    }
   ],
   "source": [
    "#hm_NB_model which has already been trained with Health and Review Train(75%) data\n",
    "\n",
    "predicted = hm_NB_model.predict(aut_test) # Predicting results for Automotive Test Dataset\n",
    "print('Results predicted for Automotive Test dataset on Health and Medine(H&M) Naive Bayes Model')\n",
    "acc = accuracy_score(aut_rslt_test, predicted)\n",
    "print(\"\\n   Naive Bayes Classification accuracy score = %.2f\" % acc)\n",
    "print(\"\\nClassification report\", metrics.classification_report(aut_rslt_test, predicted))"
   ]
  },
  {
   "cell_type": "code",
   "execution_count": 120,
   "metadata": {},
   "outputs": [
    {
     "name": "stdout",
     "output_type": "stream",
     "text": [
      "Results predicted for Health and Medine(H&M) Test dataset on Automotive Naive Bayes Model\n",
      "\n",
      "   Naive Bayes Classification accuracy score = 0.90\n",
      "\n",
      "Classification report               precision    recall  f1-score   support\n",
      "\n",
      "           0       0.75      0.88      0.81        90\n",
      "           1       0.96      0.90      0.93       273\n",
      "\n",
      "   micro avg       0.90      0.90      0.90       363\n",
      "   macro avg       0.85      0.89      0.87       363\n",
      "weighted avg       0.91      0.90      0.90       363\n",
      "\n"
     ]
    }
   ],
   "source": [
    "#aut_NB_model which has already been trained with Automotive Train(75%) data\n",
    "\n",
    "predicted = aut_NB_model.predict(hm_test) # Predicting results for Automotive Test Dataset\n",
    "print('Results predicted for Health and Medine(H&M) Test dataset on Automotive Naive Bayes Model')\n",
    "acc = accuracy_score(hm_rslt_test, predicted)\n",
    "print(\"\\n   Naive Bayes Classification accuracy score = %.2f\" % acc)\n",
    "print(\"\\nClassification report\", metrics.classification_report(hm_rslt_test, predicted))"
   ]
  },
  {
   "cell_type": "markdown",
   "metadata": {},
   "source": [
    "#### Conclusion:\n",
    "\n",
    "From the results, we see a clear reduction in classifier accuracy when we predict results for test dataset across categories. We were expecting even greater reduction in prediction accuracy since the two selected categories( Automotive, and Health and Medical) are of completely different domain but still the model has performed admirably well in predicting Test datasets across categories. The Health & Model has 80% accuracy for Automotive review data and Automotive NB Model has 88% accuracy for H&M data. This could be due to robust review tokenization and presence of common sentiment(positive or negative) words in complete set of reviews across categories."
   ]
  }
 ],
 "metadata": {
  "kernelspec": {
   "display_name": "Python 3",
   "language": "python",
   "name": "python3"
  },
  "language_info": {
   "codemirror_mode": {
    "name": "ipython",
    "version": 3
   },
   "file_extension": ".py",
   "mimetype": "text/x-python",
   "name": "python",
   "nbconvert_exporter": "python",
   "pygments_lexer": "ipython3",
   "version": "3.7.1"
  }
 },
 "nbformat": 4,
 "nbformat_minor": 2
}
